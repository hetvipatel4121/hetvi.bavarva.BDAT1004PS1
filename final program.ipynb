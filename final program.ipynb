{
 "cells": [
  {
   "cell_type": "markdown",
   "id": "3f21bf53",
   "metadata": {},
   "source": [
    "***QUESTION 1 C#***\n",
    "QUE1 What data type is each of the following?\n",
    "5\n",
    "5.0\n",
    "5 > 1\n",
    "'5'\n",
    "5 * 2\n",
    "'5' * 2\n",
    "'5' + '2'\n",
    "5 / 2\n",
    "5 % 2\n",
    "{5, 2, 1}\n",
    "5 == 3\n",
    "Pi (the number)"
   ]
  },
  {
   "cell_type": "markdown",
   "id": "cc61971a",
   "metadata": {},
   "source": [
    " ***CODE 1***\n",
    "Console.WriteLine(\"\\n=============================== Que 1 ======================================\\n\");\n",
    "var numbers = new object[]\n",
    "            {\n",
    "            5,\n",
    "            5.0,\n",
    "            5 > 1,\n",
    "            \"5\",\n",
    "            5 * 2,\n",
    "           // \"5\" * 2,\n",
    "            \"5\" + \"2\",\n",
    "            5 / 2,\n",
    "            5 % 2,\n",
    "            new[] { 5, 2, 1 },\n",
    "            5 == 3,\n",
    "            Math.PI\n",
    "            };\n",
    "\n",
    "foreach (var num in numbers)\n",
    "{\n",
    "    Console.WriteLine($\"{num} is of type {num.GetType()}\");\n",
    "}"
   ]
  },
  {
   "cell_type": "markdown",
   "id": "a700c10d",
   "metadata": {},
   "source": [
    "***OUTPUT 1***\n",
    "5 is of type System.Int32\n",
    "5 is of type System.Double\n",
    "True is of type System.Boolean\n",
    "5 is of type System.String\n",
    "10 is of type System.Int32\n",
    "52 is of type System.String\n",
    "2 is of type System.Int32\n",
    "1 is of type System.Int32\n",
    "System.Int32[] is of type System.Int32[]\n",
    "False is of type System.Boolean\n",
    "3.141592653589793 is of type System.Double\n",
    "\n"
   ]
  },
  {
   "cell_type": "markdown",
   "id": "70fc8a4e",
   "metadata": {},
   "source": [
    "***QUESTION 2 C#***\n",
    "Write (and evaluate) C# expressions that answer these questions:\n",
    "a. How many letters are there in 'Supercalifragilisticexpialidocious'?\n",
    "b. Does 'Supercalifragilisticexpialidocious' contain 'ice' as a substring?\n",
    "c. Which of the following words is the longest:Supercalifragilisticexpialidocious, Honorificabilitudinitatibus, orBababadalgharaghtakamminarronnkonn?\n",
    "d. Which composer comes first in the dictionary: 'Berlioz', 'Borodin', 'Brian','Bartok', 'Bellini', 'Buxtehude', 'Bernstein'. Which one comes last?"
   ]
  },
  {
   "cell_type": "markdown",
   "id": "0dcf9ac0",
   "metadata": {},
   "source": [
    "***CODE 2***\n",
    "Console.WriteLine(\"\\n=============================== Que 2 ======================================\\n\");\n",
    "\n",
    "\n",
    "//QUE 2.1 How many letters are there in 'Supercalifragilisticexpialidocious'?\n",
    "\n",
    "string text1 = \"Supercalifragilisticexpialidocious\";\n",
    "int textlength = text1.Length;\n",
    "Console.WriteLine(\"lenght of the text1 is\" + textlength);\n",
    "\n",
    "//QUE 2.2 Does 'Supercalifragilisticexpialidocious' contain 'ice' as a substring?\n",
    "\n",
    "string text2 = \"Supercalifragilisticexpialidocious\";\n",
    "bool word = text2.Contains(\"ice\");\n",
    "Console.WriteLine(word);\n",
    "\n",
    "\n",
    "//QUE 2.3 Which of the following words is the longest:\n",
    "//Supercalifragilisticexpialidocious,\n",
    "//Honorificabilitudinitatibus,\n",
    "//orBababadalgharaghtakamminarronnkonn?\n",
    "\n",
    "string message1 = \"Supercalifragilisticexpialidocious\";\n",
    "string message2 = \"Honorificabilitudinitatibus\";\n",
    "string message3 = \"Bababadalgharaghtakamminarronnkonn\";\n",
    "if (message1.Length > message2.Length && message1.Length > message3.Length)\n",
    "{\n",
    "    Console.WriteLine(message1 + \" is the longest word.\");\n",
    "}\n",
    "else if (message2.Length > message1.Length && message2.Length > message3.Length)\n",
    "{\n",
    "    Console.WriteLine(message2 + \" is the longest word.\");\n",
    "}\n",
    "else if (message3.Length > message1.Length && message3.Length > message2.Length)\n",
    "{\n",
    "    Console.WriteLine(message3 + \" is the longest word.\");\n",
    "}\n",
    "else\n",
    "{\n",
    "    Console.WriteLine(\"two message have same lenght\");\n",
    "}\n",
    "\n",
    "\n",
    "//QUE 2.4 Which composer comes first in the dictionary:\n",
    "//'Berlioz', 'Borodin', 'Brian','Bartok', 'Bellini', 'Buxtehude', 'Bernstein'.\n",
    "//Which one comes last?\n",
    "\n",
    "string[] composer1 = { \"Berlioz\", \"Borodin\", \"Brian\", \"Bartok\", \"Bellini\", \"Buxtehude\", \"Bernstein\" };\n",
    "Array.Sort(composer1);\n",
    "\n",
    "Console.WriteLine(\"First composer: \" + composer1[0]);\n",
    "Console.WriteLine(\"Last composer: \" + composer1[composer1.Length - 1]);"
   ]
  },
  {
   "cell_type": "markdown",
   "id": "357e5ed8",
   "metadata": {},
   "source": [
    "***OUTPUT 2***\n",
    "lenght of the text1 is34\n",
    "True\n",
    "two message have same lenght\n",
    "First composer: Bartok\n",
    "Last composer: Buxtehude\n"
   ]
  },
  {
   "cell_type": "markdown",
   "id": "98268afb",
   "metadata": {},
   "source": [
    "***Question 3 C#***\n",
    "Implement function triangleArea(a,b,c) that takes as input the lengths of the 3sides of a triangle and returns the area of the triangle. \n",
    "By Heron's formula, the areaof a triangle with side lengths a, b, and c is sqrt(s(s - a)(s - b)(s - c)) , \n",
    "wheres = (a + b + c) /2.\n",
    "//>>> triangleArea(2,2,2) 1.7320508075688772"
   ]
  },
  {
   "cell_type": "markdown",
   "id": "60ba0319",
   "metadata": {},
   "source": [
    "***CODE 3***\n",
    "Console.WriteLine(\"\\n=============================== Que 3 ======================================\\n\");\n",
    "Console.WriteLine(triangleArea(2, 2, 2));\n",
    "static double triangleArea(double a, double b, double c)\n",
    "{\n",
    "double s = (a + b + c) / 2;\n",
    "double trianglearea = Math.Sqrt(s * (s - a) * (s - b) * (s - c));\n",
    "return trianglearea;\n",
    "}\n"
   ]
  },
  {
   "cell_type": "markdown",
   "id": "8b9dd8f2",
   "metadata": {},
   "source": [
    "***OUTPUT 3***\n",
    "1.7320508075688772"
   ]
  },
  {
   "cell_type": "markdown",
   "id": "48b32773",
   "metadata": {},
   "source": [
    "***QUESTION 4 C#***\n",
    "Write a program in C# Sharp to separate odd and even integers in separate arrays.\n",
    "Go to the editorTest Data :Input the number of elements to be stored in the array :5\n",
    "Input 5 elements in the array :\n",
    "element - 0 : 25\n",
    "element - 1 : 47\n",
    "element - 2 : 42\n",
    "element - 3 : 56\n",
    "element - 4 : 32\n",
    "Expected Output:\n",
    "The Even elements are:42 56 32\n",
    "The Odd elements are :25 47"
   ]
  },
  {
   "cell_type": "markdown",
   "id": "c6a4e4cc",
   "metadata": {},
   "source": [
    "***CODE 4***\n",
    "Console.WriteLine(\"\\n=============================== Que 4 ======================================\\n\");\n",
    "console.WriteLine(\"Input the number of elements to be stored in the array: \");\n",
    "int n = Convert.ToInt32(Console.ReadLine());\n",
    "\n",
    "int[] array = new int[n];\n",
    "int[] evennum = new int[n];\n",
    "int[] oddnum = new int[n];\n",
    "\n",
    "Console.WriteLine($\"Input {n} elements in the array:\");\n",
    "for (int i = 0; i < n; i++)\n",
    "{\n",
    "    Console.Write($\"element - {i} : \");\n",
    "    array[i] = Convert.ToInt32(Console.ReadLine());\n",
    "}\n",
    "\n",
    "int evenvalue = 0;\n",
    "int oddvalue = 0;\n",
    "for (int i = 0; i < n; i++)\n",
    "{\n",
    "    if (array[i] % 2 == 0)\n",
    "    {\n",
    "        evennum[evenvalue] = array[i];\n",
    "        evenvalue++;\n",
    "    }\n",
    "    else\n",
    "    {\n",
    "        oddnum[oddvalue] = array[i];\n",
    "        oddvalue++;\n",
    "    }\n",
    "}\n",
    "\n",
    "Console.Write(\"The Even elements are: \");\n",
    "for (int i = 0; i < evenvalue; i++)\n",
    "{\n",
    "    Console.Write($\"{evennum[i]} \");\n",
    "}\n",
    "\n",
    "Console.Write(\"\\nThe Odd elements are: \");\n",
    "for (int i = 0; i < oddvalue; i++)\n",
    "{\n",
    "    Console.Write($\"{oddnum[i]} \");\n",
    "}"
   ]
  },
  {
   "cell_type": "markdown",
   "id": "57c64bd6",
   "metadata": {},
   "source": [
    "***OUTPUT 4***\n",
    "Input the number of elements to be stored in the array:\n",
    "5\n",
    "Input 5 elements in the array:\n",
    "element - 0 : 85\n",
    "element - 1 : 92\n",
    "element - 2 : 98\n",
    "element - 3 : 75\n",
    "element - 4 : 63\n",
    "The Even elements are: 92 98\n",
    "The Odd elements are: 85 75 63***\n"
   ]
  },
  {
   "cell_type": "markdown",
   "id": "f4259975",
   "metadata": {},
   "source": [
    "***QUESTION 5***\n",
    "a. Write a function inside(x,y,x1,y1,x2,y2) that returns True or False depending on whether the point (x,y) lies in the rectangle with lower leftcorner (x1,y1) and upper right corner (x2,y2).\n",
    "//>>> inside(1,1,0,0,2,3)True\n",
    "//>>> inside(-1,-1,0,0,2,3)False\n",
    "b. Use function inside() from part a. to write an expression that tests whetherthe point (1,1) lies in both of the following rectangles: one with lower leftcorner (0.3, 0.5) and upper right corner (1.1, 0.7) and the other with lowerleft corner (0.5, 0.2) and upper right corner (1.1, 2)"
   ]
  },
  {
   "cell_type": "markdown",
   "id": "b36710d3",
   "metadata": {},
   "source": [
    "***CODE 5***\n",
    "static bool inside(double p, double q, double p1, double q1, double p2, double q2)\n",
    "{\n",
    "    return p >= p1 && p <= p2 && q >= q1 && q <= q2;\n",
    "}\n",
    "static void Main()\n",
    "{\n",
    "    bool sides1 = inside(1, 1, 0, 0, 2, 3);\n",
    "    bool sides2 = inside(-1, -1, 0, 0, 2, 3);\n",
    "\n",
    "    Console.WriteLine(\"Is (1, 1) inside the first rectangle? \" + sides1);\n",
    "    Console.WriteLine(\"Is (-1, -1) inside the second rectangle? \" + sides2);\n",
    "\n",
    "\n",
    "    bool rect1 = inside(1, 1, 0.3, 0.5, 1.1, 0.7);\n",
    "    bool rect2 = inside(1, 1, 0.5, 0.2, 1.1, 2);\n",
    "    bool rectangle = rect1 && rect2;\n",
    "   \n",
    "    Console.WriteLine(\"Is (1,1) inside both rectangles? \" + rectangle);\n",
    "}\n"
   ]
  },
  {
   "cell_type": "markdown",
   "id": "5343ec43",
   "metadata": {},
   "source": [
    "***OUTPUT 5***\n",
    "True"
   ]
  },
  {
   "cell_type": "markdown",
   "id": "a2bcd06f",
   "metadata": {},
   "source": [
    "***QUESTION 6***\n",
    "You can turn a word into pig-Latin using the following two rules (simplified): \n",
    "If the word starts with a consonant, move that letter to the end and append 'ay'.\n",
    "For example, 'happy' becomes 'appyhay' and 'pencil' becomes 'encilpay'.\n",
    "If the word starts with a vowel, simply append 'way' to the end of the word. For example, 'enter' becomes 'enterway' and 'other' becomes 'otherway' . For our purposes, there are 5 vowels: a, e, i, o, u (so we count y as a consonant). Write a function pig() that takes a word (i.e., a string) as input and returns its pigLatin form. Your function should still work if the input word contains upper case characters. Your output should always be lower case however.\n",
    "//>>> pig('happy')\n",
    "'appyhay'\n",
    "//>>> pig('Enter')\n",
    "'enterway'"
   ]
  },
  {
   "cell_type": "code",
   "execution_count": null,
   "id": "bc7ee694",
   "metadata": {},
   "outputs": [],
   "source": [
    "vowels = ['a','e','i','o','u'] #define vowels \n",
    "def pig(word): \n",
    "    abc = word.lower()\n",
    "    if word[0].lower() in vowel: #Check first letter is vowel or not  \n",
    "        abc = word+'way' # append 'way'\n",
    "    else:\n",
    "        X = word[0] # get the first char of word\n",
    "        abc = word[1:]+word[0]+'ay' # get the word without first char and append first char and then 'ay' to end \n",
    "    print(abc) \n",
    "    \n",
    "pig('happy')\n",
    "pig('ENTER')"
   ]
  },
  {
   "cell_type": "markdown",
   "id": "7f6561bb",
   "metadata": {},
   "source": [
    "***QUESTION 7***\n",
    "File bloodtype1.txt records blood-types of patients (A, B, AB, O or OO) at a clinic. \n",
    "Write a function bldcount() that reads the file with name name and reports (i.e., prints) \n",
    "how many patients there are in each bloodtype.\n"
   ]
  },
  {
   "cell_type": "code",
   "execution_count": 2,
   "id": "287bddcd",
   "metadata": {},
   "outputs": [
    {
     "name": "stdout",
     "output_type": "stream",
     "text": [
      "There are 15 Patients of Blood type  A.\n",
      "There is One patient of Blood type  B\n",
      "There are 13 Patients of Blood type  AB.\n",
      "There are 15 Patients of Blood type  O.\n",
      "There is no patient of Blood type  OO\n"
     ]
    }
   ],
   "source": [
    "Text = open('bloodgroup1.txt') #open File\n",
    "abc = Text.read() #read whole file\n",
    "Text.close() #file close\n",
    "bloodlist=abc.split() #split data and added to wordlist for frequnecy count\n",
    "\n",
    "bloodtype=['A','B','AB','O','OO']\n",
    "for i in bloodtype:\n",
    "    if bloodlist.count(i)==1:\n",
    "        print(\"There is One patient of Blood type \",i) #string format and count the value present in list\n",
    "    elif bloodlist.count(i)==0:\n",
    "        print(\"There is no patient of Blood type \",i)\n",
    "    else :\n",
    "        print(\"There are {a} Patients of Blood type  {value}.\".format(a=bloodlist.count(i),value=i))\n",
    "        "
   ]
  },
  {
   "cell_type": "markdown",
   "id": "660c2c48",
   "metadata": {},
   "source": [
    "***QUESTION 8***\n",
    "Write a function curconv() that takes as input:\n",
    "a currency represented using a string (e.g., 'JPY' for the Japanese Yen or'EUR' for the Euro)\n",
    "an amount and then converts and returns the amount in US dollars.\n",
    "//>>> curconv('EUR', 100)\n",
    "//122.96544\n",
    "//>>> curconv('JPY', 100)\n",
    "//1.241401"
   ]
  },
  {
   "cell_type": "code",
   "execution_count": 1,
   "id": "eb15a5e0",
   "metadata": {},
   "outputs": [
    {
     "name": "stdout",
     "output_type": "stream",
     "text": [
      "122.96544\n",
      "1.241401\n"
     ]
    }
   ],
   "source": [
    "Text = open('currency 1')#open File\n",
    "abc = Text.readlines() #read linebyline and store in list \n",
    "xyz = {} # blank dictionary for data storage\n",
    "\n",
    "for i in abc:\n",
    "    a=i.split() #split into the words of line from file stored in list \n",
    "    xyz[a[0]]=float(a[1]) # stored the dic with currlabel and rate \n",
    "    \n",
    "def amount(curr,amt): #define fun\n",
    "    r = xyz.get(curr) #get the value from dic as per curr given in argument\n",
    "    final_amount=amt*r #calculate the rate\n",
    "    print(final_amount)\n",
    "amount('EUR', 100)\n",
    "amount('JPY', 100)"
   ]
  },
  {
   "cell_type": "markdown",
   "id": "6f1bf248",
   "metadata": {},
   "source": [
    "***QUESTION 9 (1)***\n",
    "Each of the following will cause an exception (an error).\n",
    "Identify what type ofexception each will cause. Trying to add incompatible variables, as inadding 6 + ‘a’"
   ]
  },
  {
   "cell_type": "code",
   "execution_count": 8,
   "id": "a24d6468",
   "metadata": {},
   "outputs": [
    {
     "ename": "TypeError",
     "evalue": "unsupported operand type(s) for +: 'int' and 'str'",
     "output_type": "error",
     "traceback": [
      "\u001b[1;31m---------------------------------------------------------------------------\u001b[0m",
      "\u001b[1;31mTypeError\u001b[0m                                 Traceback (most recent call last)",
      "Cell \u001b[1;32mIn[8], line 1\u001b[0m\n\u001b[1;32m----> 1\u001b[0m \u001b[38;5;28mprint\u001b[39m(\u001b[38;5;241m6\u001b[39m \u001b[38;5;241m+\u001b[39m\u001b[38;5;124m'\u001b[39m\u001b[38;5;124ma\u001b[39m\u001b[38;5;124m'\u001b[39m)\n",
      "\u001b[1;31mTypeError\u001b[0m: unsupported operand type(s) for +: 'int' and 'str'"
     ]
    }
   ],
   "source": [
    "print(6 +'a') "
   ]
  },
  {
   "cell_type": "markdown",
   "id": "8e6d48f0",
   "metadata": {},
   "source": [
    "It will show TypeError bcz 6 is Integer and 'a' is string and + is concatination operator \"addtion\" \n",
    "but they need same datatype of values to perform operation so TypeError exception occcured"
   ]
  },
  {
   "cell_type": "markdown",
   "id": "d815fc9e",
   "metadata": {},
   "source": [
    "***Question 9 (2)***\n",
    "Referring to the 12th item of a list that has only 10items."
   ]
  },
  {
   "cell_type": "code",
   "execution_count": 7,
   "id": "bdc02a6d",
   "metadata": {},
   "outputs": [
    {
     "ename": "IndexError",
     "evalue": "list index out of range",
     "output_type": "error",
     "traceback": [
      "\u001b[1;31m---------------------------------------------------------------------------\u001b[0m",
      "\u001b[1;31mIndexError\u001b[0m                                Traceback (most recent call last)",
      "Cell \u001b[1;32mIn[7], line 2\u001b[0m\n\u001b[0;32m      1\u001b[0m abc \u001b[38;5;241m=\u001b[39m [\u001b[38;5;241m0\u001b[39m,\u001b[38;5;241m1\u001b[39m,\u001b[38;5;241m2\u001b[39m,\u001b[38;5;241m3\u001b[39m,\u001b[38;5;241m4\u001b[39m,\u001b[38;5;241m5\u001b[39m,\u001b[38;5;241m6\u001b[39m,\u001b[38;5;241m7\u001b[39m,\u001b[38;5;241m8\u001b[39m,\u001b[38;5;241m9\u001b[39m]\n\u001b[1;32m----> 2\u001b[0m \u001b[38;5;28mprint\u001b[39m(abc[\u001b[38;5;241m12\u001b[39m]) \n\u001b[0;32m      3\u001b[0m \u001b[38;5;124;03m\"\"\" list index is out of range bcz only 10 elements were there with last index value of 9 and we are requesting \u001b[39;00m\n\u001b[0;32m      4\u001b[0m \u001b[38;5;124;03mfor value at index 12 \"\"\"\u001b[39;00m\n",
      "\u001b[1;31mIndexError\u001b[0m: list index out of range"
     ]
    }
   ],
   "source": [
    "abc = [0,1,2,3,4,5,6,7,8,9]\n",
    "print(abc[12]) \n",
    "\"\"\" list index is out of range bcz only 10 elements were there with last index value of 9 and we are requesting \n",
    "for value at index 12 \"\"\""
   ]
  },
  {
   "cell_type": "markdown",
   "id": "a4abad9b",
   "metadata": {},
   "source": [
    "***Question 9 (3)***\n",
    "Using a value that is out of range for a function’sinput, such as calling math.sqrt(-1.0)"
   ]
  },
  {
   "cell_type": "code",
   "execution_count": 6,
   "id": "9a2c15ae",
   "metadata": {},
   "outputs": [
    {
     "ename": "ValueError",
     "evalue": "math domain error",
     "output_type": "error",
     "traceback": [
      "\u001b[1;31m---------------------------------------------------------------------------\u001b[0m",
      "\u001b[1;31mValueError\u001b[0m                                Traceback (most recent call last)",
      "Cell \u001b[1;32mIn[6], line 2\u001b[0m\n\u001b[0;32m      1\u001b[0m \u001b[38;5;28;01mimport\u001b[39;00m \u001b[38;5;21;01mmath\u001b[39;00m\n\u001b[1;32m----> 2\u001b[0m \u001b[38;5;28mprint\u001b[39m(math\u001b[38;5;241m.\u001b[39msqrt(\u001b[38;5;241m-\u001b[39m\u001b[38;5;241m1.0\u001b[39m))\n",
      "\u001b[1;31mValueError\u001b[0m: math domain error"
     ]
    }
   ],
   "source": [
    "import math\n",
    "print(math.sqrt(-1.0))\n",
    "\n",
    "#squre root of negative value is not possible in real number thats why error is math doamin error \n",
    "#square root of -1 is imaginory number "
   ]
  },
  {
   "cell_type": "markdown",
   "id": "4bfc17be",
   "metadata": {},
   "source": [
    "***Question 9 (4)***\n",
    "Using an undeclared variable, such as print(x) when x has not been defined "
   ]
  },
  {
   "cell_type": "code",
   "execution_count": 5,
   "id": "60bddbfd",
   "metadata": {},
   "outputs": [
    {
     "ename": "NameError",
     "evalue": "name 'x' is not defined",
     "output_type": "error",
     "traceback": [
      "\u001b[1;31m---------------------------------------------------------------------------\u001b[0m",
      "\u001b[1;31mNameError\u001b[0m                                 Traceback (most recent call last)",
      "Cell \u001b[1;32mIn[5], line 1\u001b[0m\n\u001b[1;32m----> 1\u001b[0m \u001b[38;5;28mprint\u001b[39m(x)\n",
      "\u001b[1;31mNameError\u001b[0m: name 'x' is not defined"
     ]
    }
   ],
   "source": [
    "print(x)\n",
    "#Name error bcz variable x is not defined by us so we cannot call it "
   ]
  },
  {
   "cell_type": "markdown",
   "id": "a008efe5",
   "metadata": {},
   "source": [
    "***Question 9 (5)***\n",
    "Trying to open a file that does not exist, such asmistyping the file name or looking in the wrong directory. "
   ]
  },
  {
   "cell_type": "code",
   "execution_count": 4,
   "id": "1a7e4074",
   "metadata": {},
   "outputs": [
    {
     "ename": "FileNotFoundError",
     "evalue": "[Errno 2] No such file or directory: 'bloodtype1.txt'",
     "output_type": "error",
     "traceback": [
      "\u001b[1;31m---------------------------------------------------------------------------\u001b[0m",
      "\u001b[1;31mFileNotFoundError\u001b[0m                         Traceback (most recent call last)",
      "Cell \u001b[1;32mIn[4], line 1\u001b[0m\n\u001b[1;32m----> 1\u001b[0m abc \u001b[38;5;241m=\u001b[39m \u001b[38;5;28mopen\u001b[39m(\u001b[38;5;124m'\u001b[39m\u001b[38;5;124mbloodtype1.txt\u001b[39m\u001b[38;5;124m'\u001b[39m)\n",
      "File \u001b[1;32mD:\\anaconda navigator\\Lib\\site-packages\\IPython\\core\\interactiveshell.py:286\u001b[0m, in \u001b[0;36m_modified_open\u001b[1;34m(file, *args, **kwargs)\u001b[0m\n\u001b[0;32m    279\u001b[0m \u001b[38;5;28;01mif\u001b[39;00m file \u001b[38;5;129;01min\u001b[39;00m {\u001b[38;5;241m0\u001b[39m, \u001b[38;5;241m1\u001b[39m, \u001b[38;5;241m2\u001b[39m}:\n\u001b[0;32m    280\u001b[0m     \u001b[38;5;28;01mraise\u001b[39;00m \u001b[38;5;167;01mValueError\u001b[39;00m(\n\u001b[0;32m    281\u001b[0m         \u001b[38;5;124mf\u001b[39m\u001b[38;5;124m\"\u001b[39m\u001b[38;5;124mIPython won\u001b[39m\u001b[38;5;124m'\u001b[39m\u001b[38;5;124mt let you open fd=\u001b[39m\u001b[38;5;132;01m{\u001b[39;00mfile\u001b[38;5;132;01m}\u001b[39;00m\u001b[38;5;124m by default \u001b[39m\u001b[38;5;124m\"\u001b[39m\n\u001b[0;32m    282\u001b[0m         \u001b[38;5;124m\"\u001b[39m\u001b[38;5;124mas it is likely to crash IPython. If you know what you are doing, \u001b[39m\u001b[38;5;124m\"\u001b[39m\n\u001b[0;32m    283\u001b[0m         \u001b[38;5;124m\"\u001b[39m\u001b[38;5;124myou can use builtins\u001b[39m\u001b[38;5;124m'\u001b[39m\u001b[38;5;124m open.\u001b[39m\u001b[38;5;124m\"\u001b[39m\n\u001b[0;32m    284\u001b[0m     )\n\u001b[1;32m--> 286\u001b[0m \u001b[38;5;28;01mreturn\u001b[39;00m io_open(file, \u001b[38;5;241m*\u001b[39margs, \u001b[38;5;241m*\u001b[39m\u001b[38;5;241m*\u001b[39mkwargs)\n",
      "\u001b[1;31mFileNotFoundError\u001b[0m: [Errno 2] No such file or directory: 'bloodtype1.txt'"
     ]
    }
   ],
   "source": [
    "abc = open('bloodtype1.txt')\n",
    "#Filenotfound error bcz neither this file nor directory exsits in the rootdirectory"
   ]
  },
  {
   "cell_type": "markdown",
   "id": "ab389899",
   "metadata": {},
   "source": [
    "***Question 10***\n",
    "Encryption is the process of hiding the meaning of a text by substituting letters in themessage with other letters, according to some system.\n",
    "If the process is successful, noone but the intended recipient can understand the encrypted message. \n",
    "Cryptanalysis refers to attempts to undo the encryption, even if some details of the encryption are unknown (for example, if an encrypted message has been intercepted).\n",
    "The first stepof cryptanalysis is often to build up a table of letter frequencies in the encrypted text.\n",
    "Assume that the string letters is already defined as 'abcdefghijklmnopqrstuvwxyz'.\n",
    "Write a function called frequencies()that takes a string as its only parameter, and returns a list of integers, showing the number of times each character appears in the text. \n",
    "Your function may ignore anycharacters that are not in letters.\n",
    "//>>> frequencies('The quick red fox got bored and went home.')\n",
    "[1, 1, 1, 3, 5, 1, 1, 2, 1, 0, 1, 0, 1, 2, 4, 0, 1, 2, 0, 2,1, 0, 1, 1, 0, 0]\n",
    "//>>> frequencies('apple')"
   ]
  },
  {
   "cell_type": "code",
   "execution_count": 3,
   "id": "80771902",
   "metadata": {},
   "outputs": [
    {
     "name": "stdout",
     "output_type": "stream",
     "text": [
      "[1, 1, 1, 3, 5, 1, 1, 2, 1, 0, 1, 0, 1, 2, 4, 0, 1, 2, 0, 2, 1, 0, 1, 1, 0, 0]\n",
      "[1, 0, 0, 0, 1, 0, 0, 0, 0, 0, 0, 1, 0, 0, 0, 2, 0, 0, 0, 0, 0, 0, 0, 0, 0, 0]\n"
     ]
    }
   ],
   "source": [
    "X = 'abcdefghijklmnopqrstuvwxyz' #given char for Frequency count\n",
    "abc = list(X) #Converted the string into char list \n",
    "\n",
    "def frequencies(str): #define Fun\n",
    "    xyz = [] #list to store fre.count of every count of char in input string \n",
    "\n",
    "    for i in abc: #for evry char in list alha\n",
    "        xyz.append(str.count(i)) #count the char how many time present in input string\n",
    "    print(xyz)\n",
    "\n",
    "frequencies('The quick red fox got bored and went home.')\n",
    "frequencies('apple')"
   ]
  },
  {
   "cell_type": "code",
   "execution_count": null,
   "id": "192aecc2",
   "metadata": {},
   "outputs": [],
   "source": []
  }
 ],
 "metadata": {
  "kernelspec": {
   "display_name": "Python 3 (ipykernel)",
   "language": "python",
   "name": "python3"
  },
  "language_info": {
   "codemirror_mode": {
    "name": "ipython",
    "version": 3
   },
   "file_extension": ".py",
   "mimetype": "text/x-python",
   "name": "python",
   "nbconvert_exporter": "python",
   "pygments_lexer": "ipython3",
   "version": "3.11.5"
  }
 },
 "nbformat": 4,
 "nbformat_minor": 5
}
